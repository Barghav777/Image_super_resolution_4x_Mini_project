{
  "nbformat": 4,
  "nbformat_minor": 0,
  "metadata": {
    "colab": {
      "provenance": [],
      "gpuType": "T4"
    },
    "kernelspec": {
      "name": "python3",
      "display_name": "Python 3"
    },
    "language_info": {
      "name": "python"
    },
    "accelerator": "GPU"
  },
  "cells": [
    {
      "cell_type": "code",
      "execution_count": null,
      "metadata": {
        "colab": {
          "base_uri": "https://localhost:8080/",
          "height": 472
        },
        "id": "pbrtAddpxhau",
        "outputId": "49f66381-44c5-4539-b8bb-1907778af740"
      },
      "outputs": [
        {
          "output_type": "stream",
          "name": "stdout",
          "text": [
            "Requirement already satisfied: kaggle in /usr/local/lib/python3.11/dist-packages (1.6.17)\n",
            "Requirement already satisfied: six>=1.10 in /usr/local/lib/python3.11/dist-packages (from kaggle) (1.17.0)\n",
            "Requirement already satisfied: certifi>=2023.7.22 in /usr/local/lib/python3.11/dist-packages (from kaggle) (2025.1.31)\n",
            "Requirement already satisfied: python-dateutil in /usr/local/lib/python3.11/dist-packages (from kaggle) (2.8.2)\n",
            "Requirement already satisfied: requests in /usr/local/lib/python3.11/dist-packages (from kaggle) (2.32.3)\n",
            "Requirement already satisfied: tqdm in /usr/local/lib/python3.11/dist-packages (from kaggle) (4.67.1)\n",
            "Requirement already satisfied: python-slugify in /usr/local/lib/python3.11/dist-packages (from kaggle) (8.0.4)\n",
            "Requirement already satisfied: urllib3 in /usr/local/lib/python3.11/dist-packages (from kaggle) (2.3.0)\n",
            "Requirement already satisfied: bleach in /usr/local/lib/python3.11/dist-packages (from kaggle) (6.2.0)\n",
            "Requirement already satisfied: webencodings in /usr/local/lib/python3.11/dist-packages (from bleach->kaggle) (0.5.1)\n",
            "Requirement already satisfied: text-unidecode>=1.3 in /usr/local/lib/python3.11/dist-packages (from python-slugify->kaggle) (1.3)\n",
            "Requirement already satisfied: charset-normalizer<4,>=2 in /usr/local/lib/python3.11/dist-packages (from requests->kaggle) (3.4.1)\n",
            "Requirement already satisfied: idna<4,>=2.5 in /usr/local/lib/python3.11/dist-packages (from requests->kaggle) (3.10)\n"
          ]
        },
        {
          "output_type": "display_data",
          "data": {
            "text/plain": [
              "<IPython.core.display.HTML object>"
            ],
            "text/html": [
              "\n",
              "     <input type=\"file\" id=\"files-d0a6573c-74eb-4f87-9a81-5fe25f629d0f\" name=\"files[]\" multiple disabled\n",
              "        style=\"border:none\" />\n",
              "     <output id=\"result-d0a6573c-74eb-4f87-9a81-5fe25f629d0f\">\n",
              "      Upload widget is only available when the cell has been executed in the\n",
              "      current browser session. Please rerun this cell to enable.\n",
              "      </output>\n",
              "      <script>// Copyright 2017 Google LLC\n",
              "//\n",
              "// Licensed under the Apache License, Version 2.0 (the \"License\");\n",
              "// you may not use this file except in compliance with the License.\n",
              "// You may obtain a copy of the License at\n",
              "//\n",
              "//      http://www.apache.org/licenses/LICENSE-2.0\n",
              "//\n",
              "// Unless required by applicable law or agreed to in writing, software\n",
              "// distributed under the License is distributed on an \"AS IS\" BASIS,\n",
              "// WITHOUT WARRANTIES OR CONDITIONS OF ANY KIND, either express or implied.\n",
              "// See the License for the specific language governing permissions and\n",
              "// limitations under the License.\n",
              "\n",
              "/**\n",
              " * @fileoverview Helpers for google.colab Python module.\n",
              " */\n",
              "(function(scope) {\n",
              "function span(text, styleAttributes = {}) {\n",
              "  const element = document.createElement('span');\n",
              "  element.textContent = text;\n",
              "  for (const key of Object.keys(styleAttributes)) {\n",
              "    element.style[key] = styleAttributes[key];\n",
              "  }\n",
              "  return element;\n",
              "}\n",
              "\n",
              "// Max number of bytes which will be uploaded at a time.\n",
              "const MAX_PAYLOAD_SIZE = 100 * 1024;\n",
              "\n",
              "function _uploadFiles(inputId, outputId) {\n",
              "  const steps = uploadFilesStep(inputId, outputId);\n",
              "  const outputElement = document.getElementById(outputId);\n",
              "  // Cache steps on the outputElement to make it available for the next call\n",
              "  // to uploadFilesContinue from Python.\n",
              "  outputElement.steps = steps;\n",
              "\n",
              "  return _uploadFilesContinue(outputId);\n",
              "}\n",
              "\n",
              "// This is roughly an async generator (not supported in the browser yet),\n",
              "// where there are multiple asynchronous steps and the Python side is going\n",
              "// to poll for completion of each step.\n",
              "// This uses a Promise to block the python side on completion of each step,\n",
              "// then passes the result of the previous step as the input to the next step.\n",
              "function _uploadFilesContinue(outputId) {\n",
              "  const outputElement = document.getElementById(outputId);\n",
              "  const steps = outputElement.steps;\n",
              "\n",
              "  const next = steps.next(outputElement.lastPromiseValue);\n",
              "  return Promise.resolve(next.value.promise).then((value) => {\n",
              "    // Cache the last promise value to make it available to the next\n",
              "    // step of the generator.\n",
              "    outputElement.lastPromiseValue = value;\n",
              "    return next.value.response;\n",
              "  });\n",
              "}\n",
              "\n",
              "/**\n",
              " * Generator function which is called between each async step of the upload\n",
              " * process.\n",
              " * @param {string} inputId Element ID of the input file picker element.\n",
              " * @param {string} outputId Element ID of the output display.\n",
              " * @return {!Iterable<!Object>} Iterable of next steps.\n",
              " */\n",
              "function* uploadFilesStep(inputId, outputId) {\n",
              "  const inputElement = document.getElementById(inputId);\n",
              "  inputElement.disabled = false;\n",
              "\n",
              "  const outputElement = document.getElementById(outputId);\n",
              "  outputElement.innerHTML = '';\n",
              "\n",
              "  const pickedPromise = new Promise((resolve) => {\n",
              "    inputElement.addEventListener('change', (e) => {\n",
              "      resolve(e.target.files);\n",
              "    });\n",
              "  });\n",
              "\n",
              "  const cancel = document.createElement('button');\n",
              "  inputElement.parentElement.appendChild(cancel);\n",
              "  cancel.textContent = 'Cancel upload';\n",
              "  const cancelPromise = new Promise((resolve) => {\n",
              "    cancel.onclick = () => {\n",
              "      resolve(null);\n",
              "    };\n",
              "  });\n",
              "\n",
              "  // Wait for the user to pick the files.\n",
              "  const files = yield {\n",
              "    promise: Promise.race([pickedPromise, cancelPromise]),\n",
              "    response: {\n",
              "      action: 'starting',\n",
              "    }\n",
              "  };\n",
              "\n",
              "  cancel.remove();\n",
              "\n",
              "  // Disable the input element since further picks are not allowed.\n",
              "  inputElement.disabled = true;\n",
              "\n",
              "  if (!files) {\n",
              "    return {\n",
              "      response: {\n",
              "        action: 'complete',\n",
              "      }\n",
              "    };\n",
              "  }\n",
              "\n",
              "  for (const file of files) {\n",
              "    const li = document.createElement('li');\n",
              "    li.append(span(file.name, {fontWeight: 'bold'}));\n",
              "    li.append(span(\n",
              "        `(${file.type || 'n/a'}) - ${file.size} bytes, ` +\n",
              "        `last modified: ${\n",
              "            file.lastModifiedDate ? file.lastModifiedDate.toLocaleDateString() :\n",
              "                                    'n/a'} - `));\n",
              "    const percent = span('0% done');\n",
              "    li.appendChild(percent);\n",
              "\n",
              "    outputElement.appendChild(li);\n",
              "\n",
              "    const fileDataPromise = new Promise((resolve) => {\n",
              "      const reader = new FileReader();\n",
              "      reader.onload = (e) => {\n",
              "        resolve(e.target.result);\n",
              "      };\n",
              "      reader.readAsArrayBuffer(file);\n",
              "    });\n",
              "    // Wait for the data to be ready.\n",
              "    let fileData = yield {\n",
              "      promise: fileDataPromise,\n",
              "      response: {\n",
              "        action: 'continue',\n",
              "      }\n",
              "    };\n",
              "\n",
              "    // Use a chunked sending to avoid message size limits. See b/62115660.\n",
              "    let position = 0;\n",
              "    do {\n",
              "      const length = Math.min(fileData.byteLength - position, MAX_PAYLOAD_SIZE);\n",
              "      const chunk = new Uint8Array(fileData, position, length);\n",
              "      position += length;\n",
              "\n",
              "      const base64 = btoa(String.fromCharCode.apply(null, chunk));\n",
              "      yield {\n",
              "        response: {\n",
              "          action: 'append',\n",
              "          file: file.name,\n",
              "          data: base64,\n",
              "        },\n",
              "      };\n",
              "\n",
              "      let percentDone = fileData.byteLength === 0 ?\n",
              "          100 :\n",
              "          Math.round((position / fileData.byteLength) * 100);\n",
              "      percent.textContent = `${percentDone}% done`;\n",
              "\n",
              "    } while (position < fileData.byteLength);\n",
              "  }\n",
              "\n",
              "  // All done.\n",
              "  yield {\n",
              "    response: {\n",
              "      action: 'complete',\n",
              "    }\n",
              "  };\n",
              "}\n",
              "\n",
              "scope.google = scope.google || {};\n",
              "scope.google.colab = scope.google.colab || {};\n",
              "scope.google.colab._files = {\n",
              "  _uploadFiles,\n",
              "  _uploadFilesContinue,\n",
              "};\n",
              "})(self);\n",
              "</script> "
            ]
          },
          "metadata": {}
        },
        {
          "output_type": "stream",
          "name": "stdout",
          "text": [
            "Saving kaggle.json to kaggle.json\n",
            "Dataset URL: https://www.kaggle.com/datasets/joe1995/div2k-dataset\n",
            "License(s): unknown\n",
            "Downloading div2k-dataset.zip to /content\n",
            "100% 3.71G/3.71G [03:05<00:00, 24.5MB/s]\n",
            "100% 3.71G/3.71G [03:06<00:00, 21.4MB/s]\n",
            "Dataset URL: https://www.kaggle.com/datasets/hliang001/flickr2k\n",
            "License(s): unknown\n",
            "Downloading flickr2k.zip to /content\n",
            "100% 20.0G/20.0G [16:57<00:00, 23.9MB/s]\n",
            "100% 20.0G/20.0G [16:57<00:00, 21.1MB/s]\n"
          ]
        }
      ],
      "source": [
        "# === Google Colab & Kaggle Setup ===\n",
        "# Install the Kaggle package and upload your kaggle.json credentials.\n",
        "!pip install kaggle\n",
        "\n",
        "from google.colab import files\n",
        "# Upload your kaggle.json file when prompted.\n",
        "files.upload()\n",
        "\n",
        "# Move the kaggle.json file to the correct location and set proper permissions.\n",
        "!mkdir -p ~/.kaggle\n",
        "!cp kaggle.json ~/.kaggle/\n",
        "!chmod 600 ~/.kaggle/kaggle.json\n",
        "\n",
        "# === Download and Unzip Datasets from Kaggle ===\n",
        "# Replace 'your_username/div2k-dataset' and 'your_username/flickr2k' with the correct dataset identifiers.\n",
        "!kaggle datasets download -d joe1995/div2k-dataset\n",
        "!unzip -q div2k-dataset.zip -d /content/div2k\n",
        "\n",
        "!kaggle datasets download -d hliang001/flickr2k\n",
        "!unzip -q flickr2k.zip -d /content/flickr2k"
      ]
    },
    {
      "cell_type": "code",
      "source": [
        "import os\n",
        "import glob\n",
        "import random\n",
        "import math\n",
        "from PIL import Image\n",
        "import numpy as np\n",
        "\n",
        "import torch\n",
        "import torch.nn as nn\n",
        "import torch.optim as optim\n",
        "import torch.nn.functional as F\n",
        "from torch.utils.data import Dataset, DataLoader, random_split\n",
        "import torchvision.transforms as transforms\n",
        "import torchvision.transforms.functional as TF\n",
        "from tqdm import tqdm\n",
        "\n",
        "#######################################\n",
        "# 1. Dataset Definition (Same as before)\n",
        "#######################################\n",
        "\n",
        "class SRDataset(Dataset):\n",
        "    \"\"\"\n",
        "    A dataset for single image super-resolution.\n",
        "    It loads HR images from multiple directories, applies augmentation,\n",
        "    and generates a corresponding LR image via bicubic downsampling.\n",
        "    \"\"\"\n",
        "    def __init__(self, image_dirs, crop_size=96, scale=4, mode='train'):\n",
        "        self.image_paths = []\n",
        "        for d in image_dirs:\n",
        "            self.image_paths.extend(glob.glob(os.path.join(d, \"*.png\")))\n",
        "            self.image_paths.extend(glob.glob(os.path.join(d, \"*.jpg\")))\n",
        "            self.image_paths.extend(glob.glob(os.path.join(d, \"*.jpeg\")))\n",
        "        self.crop_size = crop_size\n",
        "        self.scale = scale\n",
        "        self.mode = mode\n",
        "\n",
        "        self.to_tensor = transforms.ToTensor()\n",
        "        if mode == 'train':\n",
        "            self.augment = transforms.Compose([\n",
        "                transforms.RandomCrop(crop_size),\n",
        "                transforms.RandomHorizontalFlip(),\n",
        "                transforms.RandomChoice([\n",
        "                    transforms.Lambda(lambda img: TF.rotate(img, 0)),\n",
        "                    transforms.Lambda(lambda img: TF.rotate(img, 90)),\n",
        "                    transforms.Lambda(lambda img: TF.rotate(img, 180)),\n",
        "                    transforms.Lambda(lambda img: TF.rotate(img, 270))\n",
        "                ]),\n",
        "            ])\n",
        "        else:\n",
        "            self.augment = transforms.CenterCrop(crop_size)\n",
        "\n",
        "    def __len__(self):\n",
        "        return len(self.image_paths)\n",
        "\n",
        "    def __getitem__(self, idx):\n",
        "        img_path = self.image_paths[idx]\n",
        "        hr_image = Image.open(img_path).convert(\"RGB\")\n",
        "        hr_image = self.augment(hr_image)\n",
        "        lr_size = (hr_image.width // self.scale, hr_image.height // self.scale)\n",
        "        lr_image = hr_image.resize(lr_size, resample=Image.BICUBIC)\n",
        "        hr_tensor = self.to_tensor(hr_image)\n",
        "        lr_tensor = self.to_tensor(lr_image)\n",
        "        return lr_tensor, hr_tensor\n",
        "\n",
        "#######################################\n",
        "# 2. PSNR Calculation\n",
        "#######################################\n",
        "\n",
        "def calculate_psnr(sr, hr, max_val=1.0):\n",
        "    mse = F.mse_loss(sr, hr)\n",
        "    if mse == 0:\n",
        "        return 100.0\n",
        "    psnr = 10 * torch.log10((max_val ** 2) / mse)\n",
        "    return psnr.item()\n",
        "\n",
        "#######################################\n",
        "# 3. Charbonnier Loss\n",
        "#######################################\n",
        "\n",
        "class CharbonnierLoss(nn.Module):\n",
        "    \"\"\"\n",
        "    Charbonnier loss: a robust variant of L1 loss.\n",
        "      loss(x, y) = mean(sqrt((x - y)^2 + eps^2))\n",
        "    \"\"\"\n",
        "    def __init__(self, eps=1e-3):\n",
        "        super(CharbonnierLoss, self).__init__()\n",
        "        self.eps = eps\n",
        "\n",
        "    def forward(self, x, y):\n",
        "        return torch.mean(torch.sqrt((x - y)**2 + self.eps**2))\n",
        "\n",
        "#######################################\n",
        "# 4. RGT-S Generator Architecture (Improved)\n",
        "#######################################\n",
        "\n",
        "class RGTransformerBlock(nn.Module):\n",
        "    \"\"\"\n",
        "    An improved recursive-generalization transformer block.\n",
        "    It flattens spatial features into tokens, applies global self-attention\n",
        "    followed by a local self-attention branch, then an MLP.\n",
        "    \"\"\"\n",
        "    def __init__(self, dim, num_heads, mlp_ratio=4.0, dropout=0.1):\n",
        "        super(RGTransformerBlock, self).__init__()\n",
        "        self.norm1 = nn.LayerNorm(dim)\n",
        "        self.attn_global = nn.MultiheadAttention(embed_dim=dim, num_heads=num_heads, dropout=dropout)\n",
        "        self.norm2 = nn.LayerNorm(dim)\n",
        "        self.attn_local = nn.MultiheadAttention(embed_dim=dim, num_heads=num_heads, dropout=dropout)\n",
        "        self.norm3 = nn.LayerNorm(dim)\n",
        "        self.mlp = nn.Sequential(\n",
        "            nn.Linear(dim, int(dim * mlp_ratio)),\n",
        "            nn.GELU(),\n",
        "            nn.Linear(int(dim * mlp_ratio), dim),\n",
        "            nn.Dropout(dropout)\n",
        "        )\n",
        "\n",
        "    def forward(self, x):\n",
        "        # x: (B, C, H, W). Flatten spatial dims to (N, B, C) where N=H*W.\n",
        "        B, C, H, W = x.shape\n",
        "        N = H * W\n",
        "        x_flat = x.view(B, C, N).permute(2, 0, 1)  # shape: (N, B, C)\n",
        "\n",
        "        # Global self-attention\n",
        "        x_norm = self.norm1(x_flat)\n",
        "        attn_global, _ = self.attn_global(x_norm, x_norm, x_norm)\n",
        "        x_global = x_flat + attn_global\n",
        "\n",
        "        # Local self-attention (could use windowing; here we use full tokens for simplicity)\n",
        "        x_norm2 = self.norm2(x_global)\n",
        "        attn_local, _ = self.attn_local(x_norm2, x_norm2, x_norm2)\n",
        "        x_local = x_global + attn_local\n",
        "\n",
        "        # MLP block\n",
        "        x_norm3 = self.norm3(x_local)\n",
        "        mlp_out = self.mlp(x_norm3)\n",
        "        x_out = x_local + mlp_out\n",
        "\n",
        "        # Reshape back to (B, C, H, W)\n",
        "        x_out = x_out.permute(1, 2, 0).view(B, C, H, W)\n",
        "        return x_out\n",
        "\n",
        "class RGT_S_Generator(nn.Module):\n",
        "    \"\"\"\n",
        "    Improved RGT-S Generator for 4x image super-resolution.\n",
        "    Architecture:\n",
        "      - Shallow convolutional embedding.\n",
        "      - A stack of transformer blocks (RGTransformerBlock) with increased capacity.\n",
        "      - A convolutional trunk (plus an extra refinement conv) with a skip connection.\n",
        "      - Upsampling via PixelShuffle.\n",
        "      - Final convolution to output the image.\n",
        "    \"\"\"\n",
        "    def __init__(self, in_channels=3, out_channels=3, embed_dim=128, depth=12, num_heads=8, mlp_ratio=4.0, scale=4, dropout=0.1):\n",
        "        super(RGT_S_Generator, self).__init__()\n",
        "        self.conv_first = nn.Conv2d(in_channels, embed_dim, kernel_size=3, padding=1)\n",
        "        self.transformer_blocks = nn.Sequential(*[\n",
        "            RGTransformerBlock(dim=embed_dim, num_heads=num_heads, mlp_ratio=mlp_ratio, dropout=dropout)\n",
        "            for _ in range(depth)\n",
        "        ])\n",
        "        # Convolutional trunk with extra refinement\n",
        "        self.trunk_conv = nn.Conv2d(embed_dim, embed_dim, kernel_size=3, padding=1)\n",
        "        self.refine_conv = nn.Conv2d(embed_dim, embed_dim, kernel_size=3, padding=1)\n",
        "\n",
        "        # Upsampling module: for 4x scaling, use two PixelShuffle blocks.\n",
        "        upsample_layers = []\n",
        "        num_upsample = int(math.log(scale, 2))\n",
        "        for _ in range(num_upsample):\n",
        "            upsample_layers += [\n",
        "                nn.Conv2d(embed_dim, embed_dim * 4, kernel_size=3, padding=1),\n",
        "                nn.PixelShuffle(2),\n",
        "                nn.GELU()\n",
        "            ]\n",
        "        self.upsampling = nn.Sequential(*upsample_layers)\n",
        "        self.conv_last = nn.Conv2d(embed_dim, out_channels, kernel_size=3, padding=1)\n",
        "\n",
        "    def forward(self, x):\n",
        "        fea = self.conv_first(x)\n",
        "        trans_out = self.transformer_blocks(fea)\n",
        "        trunk = self.trunk_conv(trans_out)\n",
        "        refined = self.refine_conv(trunk)\n",
        "        fea = fea + refined  # global skip connection\n",
        "        out = self.upsampling(fea)\n",
        "        out = self.conv_last(out)\n",
        "        return out\n",
        "\n",
        "#######################################\n",
        "# 5. Training Loop (Optimized for High PSNR)\n",
        "#######################################\n",
        "\n",
        "def train_rgt_s(generator, train_loader, val_loader, num_epochs, optimizer, scheduler, device):\n",
        "    best_val_psnr = 0.0\n",
        "    criterion = CharbonnierLoss().to(device)\n",
        "\n",
        "    for epoch in range(1, num_epochs + 1):\n",
        "        generator.train()\n",
        "        train_psnr_total = 0.0\n",
        "        train_batches = 0\n",
        "        epoch_loss = 0.0\n",
        "\n",
        "        pbar = tqdm(train_loader, desc=f\"Epoch {epoch} Train\")\n",
        "        for lr_imgs, hr_imgs in pbar:\n",
        "            lr_imgs, hr_imgs = lr_imgs.to(device), hr_imgs.to(device)\n",
        "            optimizer.zero_grad()\n",
        "            sr_imgs = generator(lr_imgs)\n",
        "            loss = criterion(sr_imgs, hr_imgs)\n",
        "            loss.backward()\n",
        "            torch.nn.utils.clip_grad_norm_(generator.parameters(), max_norm=1.0)\n",
        "            optimizer.step()\n",
        "\n",
        "            batch_psnr = calculate_psnr(sr_imgs, hr_imgs)\n",
        "            train_psnr_total += batch_psnr\n",
        "            train_batches += 1\n",
        "            epoch_loss += loss.item()\n",
        "            pbar.set_postfix(loss=loss.item(), PSNR=batch_psnr)\n",
        "\n",
        "        avg_train_psnr = train_psnr_total / train_batches\n",
        "\n",
        "        # Validation phase\n",
        "        generator.eval()\n",
        "        val_psnr_total = 0.0\n",
        "        val_batches = 0\n",
        "        with torch.no_grad():\n",
        "            pbar_val = tqdm(val_loader, desc=f\"Epoch {epoch} Val\")\n",
        "            for lr_imgs, hr_imgs in pbar_val:\n",
        "                lr_imgs, hr_imgs = lr_imgs.to(device), hr_imgs.to(device)\n",
        "                sr_imgs = generator(lr_imgs)\n",
        "                batch_psnr = calculate_psnr(sr_imgs, hr_imgs)\n",
        "                val_psnr_total += batch_psnr\n",
        "                val_batches += 1\n",
        "                pbar_val.set_postfix(PSNR=batch_psnr)\n",
        "        avg_val_psnr = val_psnr_total / val_batches\n",
        "\n",
        "        scheduler.step()\n",
        "\n",
        "        print(f\"Epoch {epoch}: Loss: {epoch_loss/len(train_loader):.4f}, Train PSNR: {avg_train_psnr:.2f} dB, Val PSNR: {avg_val_psnr:.2f} dB\")\n",
        "\n",
        "        if avg_val_psnr > best_val_psnr:\n",
        "            best_val_psnr = avg_val_psnr\n",
        "            torch.save(generator.state_dict(), \"best_rgt_s_generator.pth\")\n",
        "            print(f\"--> Saved new best model with Val PSNR: {best_val_psnr:.2f} dB\")\n",
        "\n",
        "#######################################\n",
        "# 6. Main Function\n",
        "#######################################\n",
        "\n",
        "def main():\n",
        "    # Update directories to point to the extracted folders in Colab.\n",
        "    div2k_dir = \"/content/div2k/DIV2K_train_HR/DIV2K_train_HR\"\n",
        "    flickr2k_dir = \"/content/flickr2k/Flickr2K_HR\"\n",
        "    image_dirs = [div2k_dir, flickr2k_dir]\n",
        "\n",
        "    crop_size = 96   # HR crop size\n",
        "    scale = 4\n",
        "    full_dataset = SRDataset(image_dirs=image_dirs, crop_size=crop_size, scale=scale, mode='train')\n",
        "    total_size = len(full_dataset)\n",
        "    train_size = int(0.9 * total_size)\n",
        "    val_size = total_size - train_size\n",
        "    train_dataset, val_dataset = random_split(full_dataset, [train_size, val_size])\n",
        "\n",
        "    train_loader = DataLoader(train_dataset, batch_size=16, shuffle=True, num_workers=4, pin_memory=True)\n",
        "    val_loader = DataLoader(val_dataset, batch_size=16, shuffle=False, num_workers=4, pin_memory=True)\n",
        "\n",
        "    device = torch.device(\"cuda\" if torch.cuda.is_available() else \"cpu\")\n",
        "    # Initialize RGT-S generator with increased capacity\n",
        "    generator = RGT_S_Generator(scale=scale, embed_dim=128, depth=12, num_heads=8, mlp_ratio=4.0, dropout=0.1).to(device)\n",
        "\n",
        "    optimizer = optim.Adam(generator.parameters(), lr=1e-4, weight_decay=1e-4)\n",
        "    num_epochs = 200\n",
        "    scheduler = optim.lr_scheduler.CosineAnnealingLR(optimizer, T_max=num_epochs)\n",
        "\n",
        "    train_rgt_s(generator, train_loader, val_loader, num_epochs, optimizer, scheduler, device)\n",
        "\n",
        "if __name__ == \"__main__\":\n",
        "    main()\n"
      ],
      "metadata": {
        "colab": {
          "base_uri": "https://localhost:8080/",
          "height": 1000
        },
        "id": "5wrJZSFKxt_c",
        "outputId": "d2e6eb4d-a64d-4d51-e45f-523fae7ca8ff"
      },
      "execution_count": null,
      "outputs": [
        {
          "output_type": "stream",
          "name": "stderr",
          "text": [
            "/usr/local/lib/python3.11/dist-packages/torch/utils/data/dataloader.py:617: UserWarning: This DataLoader will create 4 worker processes in total. Our suggested max number of worker in current system is 2, which is smaller than what this DataLoader is going to create. Please be aware that excessive worker creation might get DataLoader running slow or even freeze, lower the worker number to avoid potential slowness/freeze if necessary.\n",
            "  warnings.warn(\n",
            "Epoch 1 Train: 100%|██████████| 45/45 [00:59<00:00,  1.33s/it, PSNR=16.2, loss=0.112]\n",
            "Epoch 1 Val: 100%|██████████| 5/5 [00:06<00:00,  1.36s/it, PSNR=16.4]\n"
          ]
        },
        {
          "output_type": "stream",
          "name": "stdout",
          "text": [
            "Epoch 1: Loss: 0.1736, Train PSNR: 13.27 dB, Val PSNR: 16.36 dB\n",
            "--> Saved new best model with Val PSNR: 16.36 dB\n"
          ]
        },
        {
          "output_type": "stream",
          "name": "stderr",
          "text": [
            "Epoch 2 Train: 100%|██████████| 45/45 [00:55<00:00,  1.24s/it, PSNR=18.1, loss=0.0866]\n",
            "Epoch 2 Val: 100%|██████████| 5/5 [00:06<00:00,  1.32s/it, PSNR=17.2]\n"
          ]
        },
        {
          "output_type": "stream",
          "name": "stdout",
          "text": [
            "Epoch 2: Loss: 0.1088, Train PSNR: 16.81 dB, Val PSNR: 17.64 dB\n",
            "--> Saved new best model with Val PSNR: 17.64 dB\n"
          ]
        },
        {
          "output_type": "stream",
          "name": "stderr",
          "text": [
            "Epoch 3 Train: 100%|██████████| 45/45 [00:55<00:00,  1.24s/it, PSNR=19.4, loss=0.0729]\n",
            "Epoch 3 Val: 100%|██████████| 5/5 [00:06<00:00,  1.34s/it, PSNR=20.7]\n"
          ]
        },
        {
          "output_type": "stream",
          "name": "stdout",
          "text": [
            "Epoch 3: Loss: 0.0840, Train PSNR: 18.57 dB, Val PSNR: 20.21 dB\n",
            "--> Saved new best model with Val PSNR: 20.21 dB\n"
          ]
        },
        {
          "output_type": "stream",
          "name": "stderr",
          "text": [
            "Epoch 4 Train: 100%|██████████| 45/45 [00:55<00:00,  1.23s/it, PSNR=20.6, loss=0.0615]\n",
            "Epoch 4 Val: 100%|██████████| 5/5 [00:06<00:00,  1.30s/it, PSNR=20.5]\n"
          ]
        },
        {
          "output_type": "stream",
          "name": "stdout",
          "text": [
            "Epoch 4: Loss: 0.0694, Train PSNR: 19.94 dB, Val PSNR: 20.95 dB\n",
            "--> Saved new best model with Val PSNR: 20.95 dB\n"
          ]
        },
        {
          "output_type": "stream",
          "name": "stderr",
          "text": [
            "Epoch 5 Train: 100%|██████████| 45/45 [00:55<00:00,  1.24s/it, PSNR=20.1, loss=0.0677]\n",
            "Epoch 5 Val: 100%|██████████| 5/5 [00:06<00:00,  1.30s/it, PSNR=20.6]\n"
          ]
        },
        {
          "output_type": "stream",
          "name": "stdout",
          "text": [
            "Epoch 5: Loss: 0.0605, Train PSNR: 20.95 dB, Val PSNR: 22.60 dB\n",
            "--> Saved new best model with Val PSNR: 22.60 dB\n"
          ]
        },
        {
          "output_type": "stream",
          "name": "stderr",
          "text": [
            "Epoch 6 Train: 100%|██████████| 45/45 [00:55<00:00,  1.24s/it, PSNR=23.5, loss=0.0449]\n",
            "Epoch 6 Val: 100%|██████████| 5/5 [00:06<00:00,  1.30s/it, PSNR=21.4]\n"
          ]
        },
        {
          "output_type": "stream",
          "name": "stdout",
          "text": [
            "Epoch 6: Loss: 0.0550, Train PSNR: 21.54 dB, Val PSNR: 21.86 dB\n"
          ]
        },
        {
          "output_type": "stream",
          "name": "stderr",
          "text": [
            "Epoch 7 Train: 100%|██████████| 45/45 [00:55<00:00,  1.23s/it, PSNR=19.7, loss=0.0694]\n",
            "Epoch 7 Val: 100%|██████████| 5/5 [00:06<00:00,  1.33s/it, PSNR=23]\n"
          ]
        },
        {
          "output_type": "stream",
          "name": "stdout",
          "text": [
            "Epoch 7: Loss: 0.0518, Train PSNR: 21.99 dB, Val PSNR: 22.32 dB\n"
          ]
        },
        {
          "output_type": "stream",
          "name": "stderr",
          "text": [
            "Epoch 8 Train: 100%|██████████| 45/45 [00:55<00:00,  1.24s/it, PSNR=21.9, loss=0.0506]\n",
            "Epoch 8 Val: 100%|██████████| 5/5 [00:06<00:00,  1.32s/it, PSNR=22.3]\n"
          ]
        },
        {
          "output_type": "stream",
          "name": "stdout",
          "text": [
            "Epoch 8: Loss: 0.0497, Train PSNR: 22.24 dB, Val PSNR: 22.59 dB\n"
          ]
        },
        {
          "output_type": "stream",
          "name": "stderr",
          "text": [
            "Epoch 9 Train: 100%|██████████| 45/45 [00:55<00:00,  1.24s/it, PSNR=25.6, loss=0.039]\n",
            "Epoch 9 Val: 100%|██████████| 5/5 [00:06<00:00,  1.26s/it, PSNR=23.4]\n"
          ]
        },
        {
          "output_type": "stream",
          "name": "stdout",
          "text": [
            "Epoch 9: Loss: 0.0492, Train PSNR: 22.37 dB, Val PSNR: 23.45 dB\n",
            "--> Saved new best model with Val PSNR: 23.45 dB\n"
          ]
        },
        {
          "output_type": "stream",
          "name": "stderr",
          "text": [
            "Epoch 10 Train: 100%|██████████| 45/45 [00:55<00:00,  1.23s/it, PSNR=21.7, loss=0.044]\n",
            "Epoch 10 Val: 100%|██████████| 5/5 [00:06<00:00,  1.26s/it, PSNR=24.2]\n"
          ]
        },
        {
          "output_type": "stream",
          "name": "stdout",
          "text": [
            "Epoch 10: Loss: 0.0472, Train PSNR: 22.58 dB, Val PSNR: 24.12 dB\n",
            "--> Saved new best model with Val PSNR: 24.12 dB\n"
          ]
        },
        {
          "output_type": "stream",
          "name": "stderr",
          "text": [
            "Epoch 11 Train: 100%|██████████| 45/45 [00:56<00:00,  1.25s/it, PSNR=23.8, loss=0.0396]\n",
            "Epoch 11 Val: 100%|██████████| 5/5 [00:06<00:00,  1.22s/it, PSNR=22.2]\n"
          ]
        },
        {
          "output_type": "stream",
          "name": "stdout",
          "text": [
            "Epoch 11: Loss: 0.0437, Train PSNR: 22.97 dB, Val PSNR: 24.43 dB\n",
            "--> Saved new best model with Val PSNR: 24.43 dB\n"
          ]
        },
        {
          "output_type": "stream",
          "name": "stderr",
          "text": [
            "Epoch 12 Train: 100%|██████████| 45/45 [00:56<00:00,  1.25s/it, PSNR=23.9, loss=0.0371]\n",
            "Epoch 12 Val: 100%|██████████| 5/5 [00:06<00:00,  1.25s/it, PSNR=24.1]\n"
          ]
        },
        {
          "output_type": "stream",
          "name": "stdout",
          "text": [
            "Epoch 12: Loss: 0.0410, Train PSNR: 23.46 dB, Val PSNR: 24.40 dB\n"
          ]
        },
        {
          "output_type": "stream",
          "name": "stderr",
          "text": [
            "Epoch 13 Train: 100%|██████████| 45/45 [00:56<00:00,  1.25s/it, PSNR=23.1, loss=0.0421]\n",
            "Epoch 13 Val: 100%|██████████| 5/5 [00:06<00:00,  1.21s/it, PSNR=22.7]\n"
          ]
        },
        {
          "output_type": "stream",
          "name": "stdout",
          "text": [
            "Epoch 13: Loss: 0.0443, Train PSNR: 23.04 dB, Val PSNR: 24.46 dB\n",
            "--> Saved new best model with Val PSNR: 24.46 dB\n"
          ]
        },
        {
          "output_type": "stream",
          "name": "stderr",
          "text": [
            "Epoch 14 Train: 100%|██████████| 45/45 [00:56<00:00,  1.25s/it, PSNR=23.1, loss=0.0418]\n",
            "Epoch 14 Val: 100%|██████████| 5/5 [00:06<00:00,  1.21s/it, PSNR=22.7]\n"
          ]
        },
        {
          "output_type": "stream",
          "name": "stdout",
          "text": [
            "Epoch 14: Loss: 0.0401, Train PSNR: 23.69 dB, Val PSNR: 24.38 dB\n"
          ]
        },
        {
          "output_type": "stream",
          "name": "stderr",
          "text": [
            "Epoch 15 Train: 100%|██████████| 45/45 [00:56<00:00,  1.26s/it, PSNR=24.1, loss=0.0351]\n",
            "Epoch 15 Val: 100%|██████████| 5/5 [00:06<00:00,  1.32s/it, PSNR=23]\n"
          ]
        },
        {
          "output_type": "stream",
          "name": "stdout",
          "text": [
            "Epoch 15: Loss: 0.0381, Train PSNR: 24.03 dB, Val PSNR: 24.48 dB\n",
            "--> Saved new best model with Val PSNR: 24.48 dB\n"
          ]
        },
        {
          "output_type": "stream",
          "name": "stderr",
          "text": [
            "Epoch 16 Train: 100%|██████████| 45/45 [00:56<00:00,  1.25s/it, PSNR=23.8, loss=0.0395]\n",
            "Epoch 16 Val: 100%|██████████| 5/5 [00:06<00:00,  1.22s/it, PSNR=24]\n"
          ]
        },
        {
          "output_type": "stream",
          "name": "stdout",
          "text": [
            "Epoch 16: Loss: 0.0385, Train PSNR: 23.76 dB, Val PSNR: 25.18 dB\n",
            "--> Saved new best model with Val PSNR: 25.18 dB\n"
          ]
        },
        {
          "output_type": "stream",
          "name": "stderr",
          "text": [
            "Epoch 17 Train: 100%|██████████| 45/45 [00:56<00:00,  1.25s/it, PSNR=23, loss=0.0427]\n",
            "Epoch 17 Val: 100%|██████████| 5/5 [00:06<00:00,  1.22s/it, PSNR=24.8]\n"
          ]
        },
        {
          "output_type": "stream",
          "name": "stdout",
          "text": [
            "Epoch 17: Loss: 0.0369, Train PSNR: 24.16 dB, Val PSNR: 25.15 dB\n"
          ]
        },
        {
          "output_type": "stream",
          "name": "stderr",
          "text": [
            "Epoch 18 Train: 100%|██████████| 45/45 [00:56<00:00,  1.25s/it, PSNR=24.8, loss=0.0355]\n",
            "Epoch 18 Val: 100%|██████████| 5/5 [00:06<00:00,  1.23s/it, PSNR=23.5]\n"
          ]
        },
        {
          "output_type": "stream",
          "name": "stdout",
          "text": [
            "Epoch 18: Loss: 0.0379, Train PSNR: 23.97 dB, Val PSNR: 24.37 dB\n"
          ]
        },
        {
          "output_type": "stream",
          "name": "stderr",
          "text": [
            "Epoch 19 Train: 100%|██████████| 45/45 [00:56<00:00,  1.25s/it, PSNR=21.6, loss=0.0517]\n",
            "Epoch 19 Val: 100%|██████████| 5/5 [00:06<00:00,  1.23s/it, PSNR=23.2]\n"
          ]
        },
        {
          "output_type": "stream",
          "name": "stdout",
          "text": [
            "Epoch 19: Loss: 0.0380, Train PSNR: 24.07 dB, Val PSNR: 24.41 dB\n"
          ]
        },
        {
          "output_type": "stream",
          "name": "stderr",
          "text": [
            "Epoch 20 Train: 100%|██████████| 45/45 [00:55<00:00,  1.24s/it, PSNR=24.4, loss=0.037]\n",
            "Epoch 20 Val: 100%|██████████| 5/5 [00:06<00:00,  1.24s/it, PSNR=23.3]\n"
          ]
        },
        {
          "output_type": "stream",
          "name": "stdout",
          "text": [
            "Epoch 20: Loss: 0.0352, Train PSNR: 24.34 dB, Val PSNR: 25.44 dB\n",
            "--> Saved new best model with Val PSNR: 25.44 dB\n"
          ]
        },
        {
          "output_type": "stream",
          "name": "stderr",
          "text": [
            "Epoch 21 Train: 100%|██████████| 45/45 [00:55<00:00,  1.23s/it, PSNR=22.8, loss=0.0383]\n",
            "Epoch 21 Val: 100%|██████████| 5/5 [00:06<00:00,  1.24s/it, PSNR=23.4]\n"
          ]
        },
        {
          "output_type": "stream",
          "name": "stdout",
          "text": [
            "Epoch 21: Loss: 0.0374, Train PSNR: 23.97 dB, Val PSNR: 25.87 dB\n",
            "--> Saved new best model with Val PSNR: 25.87 dB\n"
          ]
        },
        {
          "output_type": "stream",
          "name": "stderr",
          "text": [
            "Epoch 22 Train: 100%|██████████| 45/45 [00:55<00:00,  1.23s/it, PSNR=25.7, loss=0.0305]\n",
            "Epoch 22 Val: 100%|██████████| 5/5 [00:06<00:00,  1.24s/it, PSNR=24]\n"
          ]
        },
        {
          "output_type": "stream",
          "name": "stdout",
          "text": [
            "Epoch 22: Loss: 0.0365, Train PSNR: 24.11 dB, Val PSNR: 24.63 dB\n"
          ]
        },
        {
          "output_type": "stream",
          "name": "stderr",
          "text": [
            "Epoch 23 Train: 100%|██████████| 45/45 [00:55<00:00,  1.22s/it, PSNR=25.7, loss=0.0298]\n",
            "Epoch 23 Val: 100%|██████████| 5/5 [00:06<00:00,  1.31s/it, PSNR=23.3]\n"
          ]
        },
        {
          "output_type": "stream",
          "name": "stdout",
          "text": [
            "Epoch 23: Loss: 0.0347, Train PSNR: 24.40 dB, Val PSNR: 24.85 dB\n"
          ]
        },
        {
          "output_type": "stream",
          "name": "stderr",
          "text": [
            "Epoch 24 Train: 100%|██████████| 45/45 [00:54<00:00,  1.22s/it, PSNR=25, loss=0.034]\n",
            "Epoch 24 Val: 100%|██████████| 5/5 [00:06<00:00,  1.37s/it, PSNR=23.3]\n"
          ]
        },
        {
          "output_type": "stream",
          "name": "stdout",
          "text": [
            "Epoch 24: Loss: 0.0345, Train PSNR: 24.36 dB, Val PSNR: 25.56 dB\n"
          ]
        },
        {
          "output_type": "stream",
          "name": "stderr",
          "text": [
            "Epoch 25 Train: 100%|██████████| 45/45 [00:55<00:00,  1.22s/it, PSNR=24.6, loss=0.0328]\n",
            "Epoch 25 Val: 100%|██████████| 5/5 [00:07<00:00,  1.40s/it, PSNR=24.1]\n"
          ]
        },
        {
          "output_type": "stream",
          "name": "stdout",
          "text": [
            "Epoch 25: Loss: 0.0350, Train PSNR: 24.45 dB, Val PSNR: 25.30 dB\n"
          ]
        },
        {
          "output_type": "stream",
          "name": "stderr",
          "text": [
            "Epoch 26 Train: 100%|██████████| 45/45 [00:54<00:00,  1.22s/it, PSNR=23.3, loss=0.0408]\n",
            "Epoch 26 Val: 100%|██████████| 5/5 [00:07<00:00,  1.43s/it, PSNR=24.7]\n"
          ]
        },
        {
          "output_type": "stream",
          "name": "stdout",
          "text": [
            "Epoch 26: Loss: 0.0360, Train PSNR: 24.41 dB, Val PSNR: 24.87 dB\n"
          ]
        },
        {
          "output_type": "stream",
          "name": "stderr",
          "text": [
            "Epoch 27 Train: 100%|██████████| 45/45 [00:54<00:00,  1.22s/it, PSNR=25.9, loss=0.0315]\n",
            "Epoch 27 Val: 100%|██████████| 5/5 [00:07<00:00,  1.43s/it, PSNR=25.5]\n"
          ]
        },
        {
          "output_type": "stream",
          "name": "stdout",
          "text": [
            "Epoch 27: Loss: 0.0330, Train PSNR: 24.87 dB, Val PSNR: 26.90 dB\n",
            "--> Saved new best model with Val PSNR: 26.90 dB\n"
          ]
        },
        {
          "output_type": "stream",
          "name": "stderr",
          "text": [
            "Epoch 28 Train: 100%|██████████| 45/45 [00:54<00:00,  1.22s/it, PSNR=22.9, loss=0.0377]\n",
            "Epoch 28 Val: 100%|██████████| 5/5 [00:07<00:00,  1.43s/it, PSNR=25.7]\n"
          ]
        },
        {
          "output_type": "stream",
          "name": "stdout",
          "text": [
            "Epoch 28: Loss: 0.0331, Train PSNR: 24.66 dB, Val PSNR: 26.71 dB\n"
          ]
        },
        {
          "output_type": "stream",
          "name": "stderr",
          "text": [
            "Epoch 29 Train: 100%|██████████| 45/45 [00:55<00:00,  1.23s/it, PSNR=23.9, loss=0.0374]\n",
            "Epoch 29 Val: 100%|██████████| 5/5 [00:07<00:00,  1.40s/it, PSNR=25.4]\n"
          ]
        },
        {
          "output_type": "stream",
          "name": "stdout",
          "text": [
            "Epoch 29: Loss: 0.0330, Train PSNR: 24.87 dB, Val PSNR: 25.46 dB\n"
          ]
        },
        {
          "output_type": "stream",
          "name": "stderr",
          "text": [
            "Epoch 30 Train: 100%|██████████| 45/45 [00:55<00:00,  1.23s/it, PSNR=24.2, loss=0.0329]\n",
            "Epoch 30 Val: 100%|██████████| 5/5 [00:07<00:00,  1.40s/it, PSNR=24.1]\n"
          ]
        },
        {
          "output_type": "stream",
          "name": "stdout",
          "text": [
            "Epoch 30: Loss: 0.0339, Train PSNR: 24.70 dB, Val PSNR: 25.10 dB\n"
          ]
        },
        {
          "output_type": "stream",
          "name": "stderr",
          "text": [
            "Epoch 31 Train: 100%|██████████| 45/45 [00:54<00:00,  1.22s/it, PSNR=24.4, loss=0.037]\n",
            "Epoch 31 Val: 100%|██████████| 5/5 [00:06<00:00,  1.34s/it, PSNR=24.2]\n"
          ]
        },
        {
          "output_type": "stream",
          "name": "stdout",
          "text": [
            "Epoch 31: Loss: 0.0321, Train PSNR: 24.96 dB, Val PSNR: 24.67 dB\n"
          ]
        },
        {
          "output_type": "stream",
          "name": "stderr",
          "text": [
            "Epoch 32 Train: 100%|██████████| 45/45 [00:55<00:00,  1.22s/it, PSNR=21.9, loss=0.0429]\n",
            "Epoch 32 Val: 100%|██████████| 5/5 [00:06<00:00,  1.33s/it, PSNR=23.4]\n"
          ]
        },
        {
          "output_type": "stream",
          "name": "stdout",
          "text": [
            "Epoch 32: Loss: 0.0329, Train PSNR: 24.74 dB, Val PSNR: 25.74 dB\n"
          ]
        },
        {
          "output_type": "stream",
          "name": "stderr",
          "text": [
            "Epoch 33 Train: 100%|██████████| 45/45 [00:54<00:00,  1.22s/it, PSNR=24.6, loss=0.0339]\n",
            "Epoch 33 Val: 100%|██████████| 5/5 [00:06<00:00,  1.28s/it, PSNR=23.4]\n"
          ]
        },
        {
          "output_type": "stream",
          "name": "stdout",
          "text": [
            "Epoch 33: Loss: 0.0332, Train PSNR: 24.57 dB, Val PSNR: 24.46 dB\n"
          ]
        },
        {
          "output_type": "stream",
          "name": "stderr",
          "text": [
            "Epoch 34 Train: 100%|██████████| 45/45 [00:55<00:00,  1.23s/it, PSNR=26, loss=0.0292]\n",
            "Epoch 34 Val: 100%|██████████| 5/5 [00:06<00:00,  1.25s/it, PSNR=22.6]\n"
          ]
        },
        {
          "output_type": "stream",
          "name": "stdout",
          "text": [
            "Epoch 34: Loss: 0.0313, Train PSNR: 25.08 dB, Val PSNR: 25.69 dB\n"
          ]
        },
        {
          "output_type": "stream",
          "name": "stderr",
          "text": [
            "Epoch 35 Train: 100%|██████████| 45/45 [00:55<00:00,  1.24s/it, PSNR=26.2, loss=0.0302]\n",
            "Epoch 35 Val: 100%|██████████| 5/5 [00:06<00:00,  1.21s/it, PSNR=23.7]\n"
          ]
        },
        {
          "output_type": "stream",
          "name": "stdout",
          "text": [
            "Epoch 35: Loss: 0.0339, Train PSNR: 24.59 dB, Val PSNR: 26.33 dB\n"
          ]
        },
        {
          "output_type": "stream",
          "name": "stderr",
          "text": [
            "Epoch 36 Train: 100%|██████████| 45/45 [00:56<00:00,  1.24s/it, PSNR=24.7, loss=0.0291]\n",
            "Epoch 36 Val: 100%|██████████| 5/5 [00:06<00:00,  1.28s/it, PSNR=25.4]\n"
          ]
        },
        {
          "output_type": "stream",
          "name": "stdout",
          "text": [
            "Epoch 36: Loss: 0.0330, Train PSNR: 24.73 dB, Val PSNR: 25.98 dB\n"
          ]
        },
        {
          "output_type": "stream",
          "name": "stderr",
          "text": [
            "Epoch 37 Train: 100%|██████████| 45/45 [00:56<00:00,  1.26s/it, PSNR=23.9, loss=0.0383]\n",
            "Epoch 37 Val: 100%|██████████| 5/5 [00:06<00:00,  1.21s/it, PSNR=23.9]\n"
          ]
        },
        {
          "output_type": "stream",
          "name": "stdout",
          "text": [
            "Epoch 37: Loss: 0.0350, Train PSNR: 24.45 dB, Val PSNR: 25.86 dB\n"
          ]
        },
        {
          "output_type": "stream",
          "name": "stderr",
          "text": [
            "Epoch 38 Train: 100%|██████████| 45/45 [00:56<00:00,  1.25s/it, PSNR=23.2, loss=0.041]\n",
            "Epoch 38 Val: 100%|██████████| 5/5 [00:06<00:00,  1.23s/it, PSNR=25.9]\n"
          ]
        },
        {
          "output_type": "stream",
          "name": "stdout",
          "text": [
            "Epoch 38: Loss: 0.0329, Train PSNR: 24.73 dB, Val PSNR: 25.78 dB\n"
          ]
        },
        {
          "output_type": "stream",
          "name": "stderr",
          "text": [
            "Epoch 39 Train: 100%|██████████| 45/45 [00:56<00:00,  1.25s/it, PSNR=25.4, loss=0.0283]\n",
            "Epoch 39 Val: 100%|██████████| 5/5 [00:05<00:00,  1.19s/it, PSNR=25.8]\n"
          ]
        },
        {
          "output_type": "stream",
          "name": "stdout",
          "text": [
            "Epoch 39: Loss: 0.0320, Train PSNR: 24.92 dB, Val PSNR: 25.87 dB\n"
          ]
        },
        {
          "output_type": "stream",
          "name": "stderr",
          "text": [
            "Epoch 40 Train: 100%|██████████| 45/45 [00:56<00:00,  1.24s/it, PSNR=25.4, loss=0.033]\n",
            "Epoch 40 Val: 100%|██████████| 5/5 [00:06<00:00,  1.21s/it, PSNR=22.3]\n"
          ]
        },
        {
          "output_type": "stream",
          "name": "stdout",
          "text": [
            "Epoch 40: Loss: 0.0334, Train PSNR: 24.56 dB, Val PSNR: 24.87 dB\n"
          ]
        },
        {
          "output_type": "stream",
          "name": "stderr",
          "text": [
            "Epoch 41 Train: 100%|██████████| 45/45 [00:55<00:00,  1.24s/it, PSNR=28.9, loss=0.0196]\n",
            "Epoch 41 Val: 100%|██████████| 5/5 [00:06<00:00,  1.21s/it, PSNR=26.7]\n"
          ]
        },
        {
          "output_type": "stream",
          "name": "stdout",
          "text": [
            "Epoch 41: Loss: 0.0316, Train PSNR: 25.02 dB, Val PSNR: 26.20 dB\n"
          ]
        },
        {
          "output_type": "stream",
          "name": "stderr",
          "text": [
            "Epoch 42 Train: 100%|██████████| 45/45 [00:55<00:00,  1.24s/it, PSNR=23.1, loss=0.04]\n",
            "Epoch 42 Val: 100%|██████████| 5/5 [00:06<00:00,  1.22s/it, PSNR=24.6]\n"
          ]
        },
        {
          "output_type": "stream",
          "name": "stdout",
          "text": [
            "Epoch 42: Loss: 0.0308, Train PSNR: 25.15 dB, Val PSNR: 25.79 dB\n"
          ]
        },
        {
          "output_type": "stream",
          "name": "stderr",
          "text": [
            "Epoch 43 Train: 100%|██████████| 45/45 [00:55<00:00,  1.24s/it, PSNR=22.1, loss=0.0492]\n",
            "Epoch 43 Val: 100%|██████████| 5/5 [00:06<00:00,  1.22s/it, PSNR=22.7]\n"
          ]
        },
        {
          "output_type": "stream",
          "name": "stdout",
          "text": [
            "Epoch 43: Loss: 0.0334, Train PSNR: 24.62 dB, Val PSNR: 25.43 dB\n"
          ]
        },
        {
          "output_type": "stream",
          "name": "stderr",
          "text": [
            "Epoch 44 Train: 100%|██████████| 45/45 [00:55<00:00,  1.24s/it, PSNR=23.6, loss=0.0347]\n",
            "Epoch 44 Val: 100%|██████████| 5/5 [00:06<00:00,  1.21s/it, PSNR=25.1]\n"
          ]
        },
        {
          "output_type": "stream",
          "name": "stdout",
          "text": [
            "Epoch 44: Loss: 0.0320, Train PSNR: 24.93 dB, Val PSNR: 24.90 dB\n"
          ]
        },
        {
          "output_type": "stream",
          "name": "stderr",
          "text": [
            "Epoch 45 Train: 100%|██████████| 45/45 [00:55<00:00,  1.23s/it, PSNR=20.9, loss=0.0488]\n",
            "Epoch 45 Val: 100%|██████████| 5/5 [00:06<00:00,  1.26s/it, PSNR=23.8]\n"
          ]
        },
        {
          "output_type": "stream",
          "name": "stdout",
          "text": [
            "Epoch 45: Loss: 0.0315, Train PSNR: 25.09 dB, Val PSNR: 26.15 dB\n"
          ]
        },
        {
          "output_type": "stream",
          "name": "stderr",
          "text": [
            "Epoch 46 Train: 100%|██████████| 45/45 [00:55<00:00,  1.23s/it, PSNR=22.2, loss=0.0458]\n",
            "Epoch 46 Val: 100%|██████████| 5/5 [00:06<00:00,  1.30s/it, PSNR=25.7]\n"
          ]
        },
        {
          "output_type": "stream",
          "name": "stdout",
          "text": [
            "Epoch 46: Loss: 0.0327, Train PSNR: 24.78 dB, Val PSNR: 26.24 dB\n"
          ]
        },
        {
          "output_type": "stream",
          "name": "stderr",
          "text": [
            "Epoch 47 Train: 100%|██████████| 45/45 [00:55<00:00,  1.23s/it, PSNR=23.2, loss=0.0375]\n",
            "Epoch 47 Val: 100%|██████████| 5/5 [00:06<00:00,  1.35s/it, PSNR=23.4]\n"
          ]
        },
        {
          "output_type": "stream",
          "name": "stdout",
          "text": [
            "Epoch 47: Loss: 0.0328, Train PSNR: 24.99 dB, Val PSNR: 25.65 dB\n"
          ]
        },
        {
          "output_type": "stream",
          "name": "stderr",
          "text": [
            "Epoch 48 Train: 100%|██████████| 45/45 [00:55<00:00,  1.23s/it, PSNR=24, loss=0.0324]\n",
            "Epoch 48 Val: 100%|██████████| 5/5 [00:06<00:00,  1.37s/it, PSNR=24.6]\n"
          ]
        },
        {
          "output_type": "stream",
          "name": "stdout",
          "text": [
            "Epoch 48: Loss: 0.0306, Train PSNR: 25.33 dB, Val PSNR: 26.17 dB\n"
          ]
        },
        {
          "output_type": "stream",
          "name": "stderr",
          "text": [
            "Epoch 49 Train: 100%|██████████| 45/45 [00:55<00:00,  1.23s/it, PSNR=26.3, loss=0.0295]\n",
            "Epoch 49 Val: 100%|██████████| 5/5 [00:07<00:00,  1.41s/it, PSNR=24.6]\n"
          ]
        },
        {
          "output_type": "stream",
          "name": "stdout",
          "text": [
            "Epoch 49: Loss: 0.0323, Train PSNR: 24.78 dB, Val PSNR: 26.68 dB\n"
          ]
        },
        {
          "output_type": "stream",
          "name": "stderr",
          "text": [
            "Epoch 50 Train: 100%|██████████| 45/45 [00:55<00:00,  1.23s/it, PSNR=29.7, loss=0.0204]\n",
            "Epoch 50 Val: 100%|██████████| 5/5 [00:07<00:00,  1.41s/it, PSNR=23]\n"
          ]
        },
        {
          "output_type": "stream",
          "name": "stdout",
          "text": [
            "Epoch 50: Loss: 0.0306, Train PSNR: 25.29 dB, Val PSNR: 25.32 dB\n"
          ]
        },
        {
          "output_type": "stream",
          "name": "stderr",
          "text": [
            "Epoch 51 Train: 100%|██████████| 45/45 [00:55<00:00,  1.23s/it, PSNR=25.2, loss=0.0312]\n",
            "Epoch 51 Val: 100%|██████████| 5/5 [00:07<00:00,  1.41s/it, PSNR=23.3]\n"
          ]
        },
        {
          "output_type": "stream",
          "name": "stdout",
          "text": [
            "Epoch 51: Loss: 0.0317, Train PSNR: 24.86 dB, Val PSNR: 25.37 dB\n"
          ]
        },
        {
          "output_type": "stream",
          "name": "stderr",
          "text": [
            "Epoch 52 Train: 100%|██████████| 45/45 [00:55<00:00,  1.23s/it, PSNR=22.6, loss=0.0455]\n",
            "Epoch 52 Val: 100%|██████████| 5/5 [00:07<00:00,  1.40s/it, PSNR=22.6]\n"
          ]
        },
        {
          "output_type": "stream",
          "name": "stdout",
          "text": [
            "Epoch 52: Loss: 0.0316, Train PSNR: 25.19 dB, Val PSNR: 25.90 dB\n"
          ]
        },
        {
          "output_type": "stream",
          "name": "stderr",
          "text": [
            "Epoch 53 Train: 100%|██████████| 45/45 [00:55<00:00,  1.23s/it, PSNR=24.7, loss=0.0337]\n",
            "Epoch 53 Val: 100%|██████████| 5/5 [00:07<00:00,  1.41s/it, PSNR=24.7]\n"
          ]
        },
        {
          "output_type": "stream",
          "name": "stdout",
          "text": [
            "Epoch 53: Loss: 0.0335, Train PSNR: 24.77 dB, Val PSNR: 24.84 dB\n"
          ]
        },
        {
          "output_type": "stream",
          "name": "stderr",
          "text": [
            "Epoch 54 Train: 100%|██████████| 45/45 [00:55<00:00,  1.23s/it, PSNR=23.4, loss=0.0399]\n",
            "Epoch 54 Val: 100%|██████████| 5/5 [00:07<00:00,  1.44s/it, PSNR=24.8]\n"
          ]
        },
        {
          "output_type": "stream",
          "name": "stdout",
          "text": [
            "Epoch 54: Loss: 0.0330, Train PSNR: 24.82 dB, Val PSNR: 25.19 dB\n"
          ]
        },
        {
          "output_type": "stream",
          "name": "stderr",
          "text": [
            "Epoch 55 Train: 100%|██████████| 45/45 [00:55<00:00,  1.23s/it, PSNR=25.6, loss=0.0321]\n",
            "Epoch 55 Val: 100%|██████████| 5/5 [00:07<00:00,  1.44s/it, PSNR=24.9]\n"
          ]
        },
        {
          "output_type": "stream",
          "name": "stdout",
          "text": [
            "Epoch 55: Loss: 0.0321, Train PSNR: 25.02 dB, Val PSNR: 26.56 dB\n"
          ]
        },
        {
          "output_type": "stream",
          "name": "stderr",
          "text": [
            "Epoch 56 Train: 100%|██████████| 45/45 [00:55<00:00,  1.23s/it, PSNR=24.9, loss=0.0264]\n",
            "Epoch 56 Val: 100%|██████████| 5/5 [00:07<00:00,  1.44s/it, PSNR=23.6]\n"
          ]
        },
        {
          "output_type": "stream",
          "name": "stdout",
          "text": [
            "Epoch 56: Loss: 0.0309, Train PSNR: 25.06 dB, Val PSNR: 25.23 dB\n"
          ]
        },
        {
          "output_type": "stream",
          "name": "stderr",
          "text": [
            "Epoch 57 Train: 100%|██████████| 45/45 [00:55<00:00,  1.23s/it, PSNR=26.1, loss=0.0268]\n",
            "Epoch 57 Val: 100%|██████████| 5/5 [00:07<00:00,  1.43s/it, PSNR=24.7]\n"
          ]
        },
        {
          "output_type": "stream",
          "name": "stdout",
          "text": [
            "Epoch 57: Loss: 0.0320, Train PSNR: 25.00 dB, Val PSNR: 26.18 dB\n"
          ]
        },
        {
          "output_type": "stream",
          "name": "stderr",
          "text": [
            "Epoch 58 Train: 100%|██████████| 45/45 [00:55<00:00,  1.22s/it, PSNR=24.6, loss=0.0334]\n",
            "Epoch 58 Val: 100%|██████████| 5/5 [00:07<00:00,  1.44s/it, PSNR=23.8]\n"
          ]
        },
        {
          "output_type": "stream",
          "name": "stdout",
          "text": [
            "Epoch 58: Loss: 0.0310, Train PSNR: 25.06 dB, Val PSNR: 25.70 dB\n"
          ]
        },
        {
          "output_type": "stream",
          "name": "stderr",
          "text": [
            "Epoch 59 Train: 100%|██████████| 45/45 [00:55<00:00,  1.23s/it, PSNR=26.2, loss=0.0268]\n",
            "Epoch 59 Val: 100%|██████████| 5/5 [00:07<00:00,  1.41s/it, PSNR=24.5]\n"
          ]
        },
        {
          "output_type": "stream",
          "name": "stdout",
          "text": [
            "Epoch 59: Loss: 0.0294, Train PSNR: 25.62 dB, Val PSNR: 26.24 dB\n"
          ]
        },
        {
          "output_type": "stream",
          "name": "stderr",
          "text": [
            "Epoch 60 Train: 100%|██████████| 45/45 [00:55<00:00,  1.23s/it, PSNR=28.2, loss=0.0197]\n",
            "Epoch 60 Val: 100%|██████████| 5/5 [00:06<00:00,  1.40s/it, PSNR=24.3]\n"
          ]
        },
        {
          "output_type": "stream",
          "name": "stdout",
          "text": [
            "Epoch 60: Loss: 0.0305, Train PSNR: 25.31 dB, Val PSNR: 25.98 dB\n"
          ]
        },
        {
          "output_type": "stream",
          "name": "stderr",
          "text": [
            "Epoch 61 Train: 100%|██████████| 45/45 [00:54<00:00,  1.22s/it, PSNR=23.6, loss=0.0347]\n",
            "Epoch 61 Val: 100%|██████████| 5/5 [00:06<00:00,  1.38s/it, PSNR=25.8]\n"
          ]
        },
        {
          "output_type": "stream",
          "name": "stdout",
          "text": [
            "Epoch 61: Loss: 0.0296, Train PSNR: 25.37 dB, Val PSNR: 26.12 dB\n"
          ]
        },
        {
          "output_type": "stream",
          "name": "stderr",
          "text": [
            "Epoch 62 Train: 100%|██████████| 45/45 [00:54<00:00,  1.22s/it, PSNR=24.3, loss=0.0319]\n",
            "Epoch 62 Val: 100%|██████████| 5/5 [00:06<00:00,  1.35s/it, PSNR=25.9]\n"
          ]
        },
        {
          "output_type": "stream",
          "name": "stdout",
          "text": [
            "Epoch 62: Loss: 0.0319, Train PSNR: 24.80 dB, Val PSNR: 27.57 dB\n",
            "--> Saved new best model with Val PSNR: 27.57 dB\n"
          ]
        },
        {
          "output_type": "stream",
          "name": "stderr",
          "text": [
            "Epoch 63 Train: 100%|██████████| 45/45 [00:55<00:00,  1.23s/it, PSNR=28.2, loss=0.0227]\n",
            "Epoch 63 Val: 100%|██████████| 5/5 [00:06<00:00,  1.35s/it, PSNR=24]\n"
          ]
        },
        {
          "output_type": "stream",
          "name": "stdout",
          "text": [
            "Epoch 63: Loss: 0.0322, Train PSNR: 25.01 dB, Val PSNR: 25.55 dB\n"
          ]
        },
        {
          "output_type": "stream",
          "name": "stderr",
          "text": [
            "Epoch 64 Train: 100%|██████████| 45/45 [00:55<00:00,  1.23s/it, PSNR=26.1, loss=0.0284]\n",
            "Epoch 64 Val: 100%|██████████| 5/5 [00:06<00:00,  1.33s/it, PSNR=23.9]\n"
          ]
        },
        {
          "output_type": "stream",
          "name": "stdout",
          "text": [
            "Epoch 64: Loss: 0.0316, Train PSNR: 24.91 dB, Val PSNR: 26.55 dB\n"
          ]
        },
        {
          "output_type": "stream",
          "name": "stderr",
          "text": [
            "Epoch 65 Train: 100%|██████████| 45/45 [00:55<00:00,  1.23s/it, PSNR=25.6, loss=0.0278]\n",
            "Epoch 65 Val: 100%|██████████| 5/5 [00:06<00:00,  1.30s/it, PSNR=24.7]\n"
          ]
        },
        {
          "output_type": "stream",
          "name": "stdout",
          "text": [
            "Epoch 65: Loss: 0.0300, Train PSNR: 25.29 dB, Val PSNR: 25.30 dB\n"
          ]
        },
        {
          "output_type": "stream",
          "name": "stderr",
          "text": [
            "Epoch 66 Train: 100%|██████████| 45/45 [00:55<00:00,  1.23s/it, PSNR=27.8, loss=0.023]\n",
            "Epoch 66 Val: 100%|██████████| 5/5 [00:06<00:00,  1.26s/it, PSNR=26.4]\n"
          ]
        },
        {
          "output_type": "stream",
          "name": "stdout",
          "text": [
            "Epoch 66: Loss: 0.0313, Train PSNR: 25.09 dB, Val PSNR: 25.66 dB\n"
          ]
        },
        {
          "output_type": "stream",
          "name": "stderr",
          "text": [
            "Epoch 67 Train: 100%|██████████| 45/45 [00:55<00:00,  1.24s/it, PSNR=22, loss=0.0443]\n",
            "Epoch 67 Val: 100%|██████████| 5/5 [00:06<00:00,  1.22s/it, PSNR=24.4]\n"
          ]
        },
        {
          "output_type": "stream",
          "name": "stdout",
          "text": [
            "Epoch 67: Loss: 0.0311, Train PSNR: 25.10 dB, Val PSNR: 25.91 dB\n"
          ]
        },
        {
          "output_type": "stream",
          "name": "stderr",
          "text": [
            "Epoch 68 Train: 100%|██████████| 45/45 [00:55<00:00,  1.24s/it, PSNR=24.8, loss=0.03]\n",
            "Epoch 68 Val: 100%|██████████| 5/5 [00:06<00:00,  1.23s/it, PSNR=25.9]\n"
          ]
        },
        {
          "output_type": "stream",
          "name": "stdout",
          "text": [
            "Epoch 68: Loss: 0.0312, Train PSNR: 25.02 dB, Val PSNR: 25.75 dB\n"
          ]
        },
        {
          "output_type": "stream",
          "name": "stderr",
          "text": [
            "Epoch 69 Train: 100%|██████████| 45/45 [00:55<00:00,  1.24s/it, PSNR=27.5, loss=0.024]\n",
            "Epoch 69 Val: 100%|██████████| 5/5 [00:06<00:00,  1.23s/it, PSNR=24.6]\n"
          ]
        },
        {
          "output_type": "stream",
          "name": "stdout",
          "text": [
            "Epoch 69: Loss: 0.0300, Train PSNR: 25.40 dB, Val PSNR: 25.97 dB\n"
          ]
        },
        {
          "output_type": "stream",
          "name": "stderr",
          "text": [
            "Epoch 70 Train: 100%|██████████| 45/45 [00:57<00:00,  1.28s/it, PSNR=26.4, loss=0.028]\n",
            "Epoch 70 Val: 100%|██████████| 5/5 [00:06<00:00,  1.23s/it, PSNR=25.7]\n"
          ]
        },
        {
          "output_type": "stream",
          "name": "stdout",
          "text": [
            "Epoch 70: Loss: 0.0305, Train PSNR: 25.09 dB, Val PSNR: 26.94 dB\n"
          ]
        },
        {
          "output_type": "stream",
          "name": "stderr",
          "text": [
            "Epoch 71 Train: 100%|██████████| 45/45 [00:56<00:00,  1.26s/it, PSNR=25.8, loss=0.0311]\n",
            "Epoch 71 Val: 100%|██████████| 5/5 [00:06<00:00,  1.21s/it, PSNR=26.2]\n"
          ]
        },
        {
          "output_type": "stream",
          "name": "stdout",
          "text": [
            "Epoch 71: Loss: 0.0310, Train PSNR: 25.08 dB, Val PSNR: 25.93 dB\n"
          ]
        },
        {
          "output_type": "stream",
          "name": "stderr",
          "text": [
            "Epoch 72 Train: 100%|██████████| 45/45 [00:56<00:00,  1.25s/it, PSNR=25.1, loss=0.0321]\n",
            "Epoch 72 Val: 100%|██████████| 5/5 [00:06<00:00,  1.26s/it, PSNR=24.6]\n"
          ]
        },
        {
          "output_type": "stream",
          "name": "stdout",
          "text": [
            "Epoch 72: Loss: 0.0307, Train PSNR: 25.19 dB, Val PSNR: 26.13 dB\n"
          ]
        },
        {
          "output_type": "stream",
          "name": "stderr",
          "text": [
            "Epoch 73 Train: 100%|██████████| 45/45 [00:57<00:00,  1.28s/it, PSNR=25, loss=0.0288]\n",
            "Epoch 73 Val: 100%|██████████| 5/5 [00:06<00:00,  1.29s/it, PSNR=23.8]\n"
          ]
        },
        {
          "output_type": "stream",
          "name": "stdout",
          "text": [
            "Epoch 73: Loss: 0.0289, Train PSNR: 25.57 dB, Val PSNR: 26.03 dB\n"
          ]
        },
        {
          "output_type": "stream",
          "name": "stderr",
          "text": [
            "Epoch 74 Train: 100%|██████████| 45/45 [00:56<00:00,  1.26s/it, PSNR=26.3, loss=0.0237]\n",
            "Epoch 74 Val: 100%|██████████| 5/5 [00:06<00:00,  1.32s/it, PSNR=23.9]\n"
          ]
        },
        {
          "output_type": "stream",
          "name": "stdout",
          "text": [
            "Epoch 74: Loss: 0.0297, Train PSNR: 25.56 dB, Val PSNR: 26.00 dB\n"
          ]
        },
        {
          "output_type": "stream",
          "name": "stderr",
          "text": [
            "Epoch 75 Train: 100%|██████████| 45/45 [00:56<00:00,  1.25s/it, PSNR=23, loss=0.0395]\n",
            "Epoch 75 Val: 100%|██████████| 5/5 [00:06<00:00,  1.30s/it, PSNR=24.1]\n"
          ]
        },
        {
          "output_type": "stream",
          "name": "stdout",
          "text": [
            "Epoch 75: Loss: 0.0299, Train PSNR: 25.30 dB, Val PSNR: 27.40 dB\n"
          ]
        },
        {
          "output_type": "stream",
          "name": "stderr",
          "text": [
            "Epoch 76 Train: 100%|██████████| 45/45 [00:55<00:00,  1.24s/it, PSNR=23.8, loss=0.034]\n",
            "Epoch 76 Val: 100%|██████████| 5/5 [00:06<00:00,  1.29s/it, PSNR=26.8]\n"
          ]
        },
        {
          "output_type": "stream",
          "name": "stdout",
          "text": [
            "Epoch 76: Loss: 0.0333, Train PSNR: 24.66 dB, Val PSNR: 26.47 dB\n"
          ]
        },
        {
          "output_type": "stream",
          "name": "stderr",
          "text": [
            "Epoch 77 Train: 100%|██████████| 45/45 [00:55<00:00,  1.24s/it, PSNR=27.8, loss=0.0221]\n",
            "Epoch 77 Val: 100%|██████████| 5/5 [00:06<00:00,  1.30s/it, PSNR=23.7]\n"
          ]
        },
        {
          "output_type": "stream",
          "name": "stdout",
          "text": [
            "Epoch 77: Loss: 0.0314, Train PSNR: 25.02 dB, Val PSNR: 26.30 dB\n"
          ]
        },
        {
          "output_type": "stream",
          "name": "stderr",
          "text": [
            "Epoch 78 Train: 100%|██████████| 45/45 [00:55<00:00,  1.23s/it, PSNR=23.6, loss=0.0352]\n",
            "Epoch 78 Val: 100%|██████████| 5/5 [00:06<00:00,  1.27s/it, PSNR=24]\n"
          ]
        },
        {
          "output_type": "stream",
          "name": "stdout",
          "text": [
            "Epoch 78: Loss: 0.0312, Train PSNR: 25.08 dB, Val PSNR: 25.67 dB\n"
          ]
        },
        {
          "output_type": "stream",
          "name": "stderr",
          "text": [
            "Epoch 79 Train: 100%|██████████| 45/45 [00:55<00:00,  1.24s/it, PSNR=25.7, loss=0.0307]\n",
            "Epoch 79 Val: 100%|██████████| 5/5 [00:06<00:00,  1.26s/it, PSNR=23.8]\n"
          ]
        },
        {
          "output_type": "stream",
          "name": "stdout",
          "text": [
            "Epoch 79: Loss: 0.0289, Train PSNR: 25.59 dB, Val PSNR: 26.01 dB\n"
          ]
        },
        {
          "output_type": "stream",
          "name": "stderr",
          "text": [
            "Epoch 80 Train: 100%|██████████| 45/45 [00:55<00:00,  1.24s/it, PSNR=27, loss=0.023]\n",
            "Epoch 80 Val: 100%|██████████| 5/5 [00:06<00:00,  1.27s/it, PSNR=26.1]\n"
          ]
        },
        {
          "output_type": "stream",
          "name": "stdout",
          "text": [
            "Epoch 80: Loss: 0.0314, Train PSNR: 25.26 dB, Val PSNR: 25.98 dB\n"
          ]
        },
        {
          "output_type": "stream",
          "name": "stderr",
          "text": [
            "Epoch 81 Train: 100%|██████████| 45/45 [00:56<00:00,  1.25s/it, PSNR=22.4, loss=0.0428]\n",
            "Epoch 81 Val: 100%|██████████| 5/5 [00:06<00:00,  1.29s/it, PSNR=24.8]\n"
          ]
        },
        {
          "output_type": "stream",
          "name": "stdout",
          "text": [
            "Epoch 81: Loss: 0.0323, Train PSNR: 25.01 dB, Val PSNR: 25.30 dB\n"
          ]
        },
        {
          "output_type": "stream",
          "name": "stderr",
          "text": [
            "Epoch 82 Train: 100%|██████████| 45/45 [00:55<00:00,  1.23s/it, PSNR=25.6, loss=0.0283]\n",
            "Epoch 82 Val: 100%|██████████| 5/5 [00:06<00:00,  1.27s/it, PSNR=25.5]\n"
          ]
        },
        {
          "output_type": "stream",
          "name": "stdout",
          "text": [
            "Epoch 82: Loss: 0.0319, Train PSNR: 25.09 dB, Val PSNR: 25.90 dB\n"
          ]
        },
        {
          "output_type": "stream",
          "name": "stderr",
          "text": [
            "Epoch 83 Train: 100%|██████████| 45/45 [00:55<00:00,  1.24s/it, PSNR=22.7, loss=0.0412]\n",
            "Epoch 83 Val: 100%|██████████| 5/5 [00:06<00:00,  1.25s/it, PSNR=27]\n"
          ]
        },
        {
          "output_type": "stream",
          "name": "stdout",
          "text": [
            "Epoch 83: Loss: 0.0305, Train PSNR: 25.27 dB, Val PSNR: 25.98 dB\n"
          ]
        },
        {
          "output_type": "stream",
          "name": "stderr",
          "text": [
            "Epoch 84 Train: 100%|██████████| 45/45 [00:56<00:00,  1.25s/it, PSNR=23.7, loss=0.0348]\n",
            "Epoch 84 Val: 100%|██████████| 5/5 [00:06<00:00,  1.24s/it, PSNR=24.3]\n"
          ]
        },
        {
          "output_type": "stream",
          "name": "stdout",
          "text": [
            "Epoch 84: Loss: 0.0307, Train PSNR: 24.98 dB, Val PSNR: 25.94 dB\n"
          ]
        },
        {
          "output_type": "stream",
          "name": "stderr",
          "text": [
            "Epoch 85 Train: 100%|██████████| 45/45 [00:56<00:00,  1.26s/it, PSNR=26, loss=0.0256]\n",
            "Epoch 85 Val: 100%|██████████| 5/5 [00:06<00:00,  1.21s/it, PSNR=23.3]\n"
          ]
        },
        {
          "output_type": "stream",
          "name": "stdout",
          "text": [
            "Epoch 85: Loss: 0.0304, Train PSNR: 25.25 dB, Val PSNR: 25.87 dB\n"
          ]
        },
        {
          "output_type": "stream",
          "name": "stderr",
          "text": [
            "Epoch 86 Train: 100%|██████████| 45/45 [00:56<00:00,  1.25s/it, PSNR=26, loss=0.0263]\n",
            "Epoch 86 Val: 100%|██████████| 5/5 [00:06<00:00,  1.21s/it, PSNR=24.9]\n"
          ]
        },
        {
          "output_type": "stream",
          "name": "stdout",
          "text": [
            "Epoch 86: Loss: 0.0299, Train PSNR: 25.40 dB, Val PSNR: 26.76 dB\n"
          ]
        },
        {
          "output_type": "stream",
          "name": "stderr",
          "text": [
            "Epoch 87 Train:  71%|███████   | 32/45 [00:43<00:17,  1.36s/it, PSNR=25.6, loss=0.0295]\n"
          ]
        },
        {
          "output_type": "error",
          "ename": "KeyboardInterrupt",
          "evalue": "",
          "traceback": [
            "\u001b[0;31m---------------------------------------------------------------------------\u001b[0m",
            "\u001b[0;31mKeyboardInterrupt\u001b[0m                         Traceback (most recent call last)",
            "\u001b[0;32m<ipython-input-2-cede7b9e83b4>\u001b[0m in \u001b[0;36m<cell line: 0>\u001b[0;34m()\u001b[0m\n\u001b[1;32m    270\u001b[0m \u001b[0;34m\u001b[0m\u001b[0m\n\u001b[1;32m    271\u001b[0m \u001b[0;32mif\u001b[0m \u001b[0m__name__\u001b[0m \u001b[0;34m==\u001b[0m \u001b[0;34m\"__main__\"\u001b[0m\u001b[0;34m:\u001b[0m\u001b[0;34m\u001b[0m\u001b[0;34m\u001b[0m\u001b[0m\n\u001b[0;32m--> 272\u001b[0;31m     \u001b[0mmain\u001b[0m\u001b[0;34m(\u001b[0m\u001b[0;34m)\u001b[0m\u001b[0;34m\u001b[0m\u001b[0;34m\u001b[0m\u001b[0m\n\u001b[0m",
            "\u001b[0;32m<ipython-input-2-cede7b9e83b4>\u001b[0m in \u001b[0;36mmain\u001b[0;34m()\u001b[0m\n\u001b[1;32m    267\u001b[0m     \u001b[0mscheduler\u001b[0m \u001b[0;34m=\u001b[0m \u001b[0moptim\u001b[0m\u001b[0;34m.\u001b[0m\u001b[0mlr_scheduler\u001b[0m\u001b[0;34m.\u001b[0m\u001b[0mCosineAnnealingLR\u001b[0m\u001b[0;34m(\u001b[0m\u001b[0moptimizer\u001b[0m\u001b[0;34m,\u001b[0m \u001b[0mT_max\u001b[0m\u001b[0;34m=\u001b[0m\u001b[0mnum_epochs\u001b[0m\u001b[0;34m)\u001b[0m\u001b[0;34m\u001b[0m\u001b[0;34m\u001b[0m\u001b[0m\n\u001b[1;32m    268\u001b[0m \u001b[0;34m\u001b[0m\u001b[0m\n\u001b[0;32m--> 269\u001b[0;31m     \u001b[0mtrain_rgt_s\u001b[0m\u001b[0;34m(\u001b[0m\u001b[0mgenerator\u001b[0m\u001b[0;34m,\u001b[0m \u001b[0mtrain_loader\u001b[0m\u001b[0;34m,\u001b[0m \u001b[0mval_loader\u001b[0m\u001b[0;34m,\u001b[0m \u001b[0mnum_epochs\u001b[0m\u001b[0;34m,\u001b[0m \u001b[0moptimizer\u001b[0m\u001b[0;34m,\u001b[0m \u001b[0mscheduler\u001b[0m\u001b[0;34m,\u001b[0m \u001b[0mdevice\u001b[0m\u001b[0;34m)\u001b[0m\u001b[0;34m\u001b[0m\u001b[0;34m\u001b[0m\u001b[0m\n\u001b[0m\u001b[1;32m    270\u001b[0m \u001b[0;34m\u001b[0m\u001b[0m\n\u001b[1;32m    271\u001b[0m \u001b[0;32mif\u001b[0m \u001b[0m__name__\u001b[0m \u001b[0;34m==\u001b[0m \u001b[0;34m\"__main__\"\u001b[0m\u001b[0;34m:\u001b[0m\u001b[0;34m\u001b[0m\u001b[0;34m\u001b[0m\u001b[0m\n",
            "\u001b[0;32m<ipython-input-2-cede7b9e83b4>\u001b[0m in \u001b[0;36mtrain_rgt_s\u001b[0;34m(generator, train_loader, val_loader, num_epochs, optimizer, scheduler, device)\u001b[0m\n\u001b[1;32m    197\u001b[0m \u001b[0;34m\u001b[0m\u001b[0m\n\u001b[1;32m    198\u001b[0m         \u001b[0mpbar\u001b[0m \u001b[0;34m=\u001b[0m \u001b[0mtqdm\u001b[0m\u001b[0;34m(\u001b[0m\u001b[0mtrain_loader\u001b[0m\u001b[0;34m,\u001b[0m \u001b[0mdesc\u001b[0m\u001b[0;34m=\u001b[0m\u001b[0;34mf\"Epoch {epoch} Train\"\u001b[0m\u001b[0;34m)\u001b[0m\u001b[0;34m\u001b[0m\u001b[0;34m\u001b[0m\u001b[0m\n\u001b[0;32m--> 199\u001b[0;31m         \u001b[0;32mfor\u001b[0m \u001b[0mlr_imgs\u001b[0m\u001b[0;34m,\u001b[0m \u001b[0mhr_imgs\u001b[0m \u001b[0;32min\u001b[0m \u001b[0mpbar\u001b[0m\u001b[0;34m:\u001b[0m\u001b[0;34m\u001b[0m\u001b[0;34m\u001b[0m\u001b[0m\n\u001b[0m\u001b[1;32m    200\u001b[0m             \u001b[0mlr_imgs\u001b[0m\u001b[0;34m,\u001b[0m \u001b[0mhr_imgs\u001b[0m \u001b[0;34m=\u001b[0m \u001b[0mlr_imgs\u001b[0m\u001b[0;34m.\u001b[0m\u001b[0mto\u001b[0m\u001b[0;34m(\u001b[0m\u001b[0mdevice\u001b[0m\u001b[0;34m)\u001b[0m\u001b[0;34m,\u001b[0m \u001b[0mhr_imgs\u001b[0m\u001b[0;34m.\u001b[0m\u001b[0mto\u001b[0m\u001b[0;34m(\u001b[0m\u001b[0mdevice\u001b[0m\u001b[0;34m)\u001b[0m\u001b[0;34m\u001b[0m\u001b[0;34m\u001b[0m\u001b[0m\n\u001b[1;32m    201\u001b[0m             \u001b[0moptimizer\u001b[0m\u001b[0;34m.\u001b[0m\u001b[0mzero_grad\u001b[0m\u001b[0;34m(\u001b[0m\u001b[0;34m)\u001b[0m\u001b[0;34m\u001b[0m\u001b[0;34m\u001b[0m\u001b[0m\n",
            "\u001b[0;32m/usr/local/lib/python3.11/dist-packages/tqdm/std.py\u001b[0m in \u001b[0;36m__iter__\u001b[0;34m(self)\u001b[0m\n\u001b[1;32m   1179\u001b[0m \u001b[0;34m\u001b[0m\u001b[0m\n\u001b[1;32m   1180\u001b[0m         \u001b[0;32mtry\u001b[0m\u001b[0;34m:\u001b[0m\u001b[0;34m\u001b[0m\u001b[0;34m\u001b[0m\u001b[0m\n\u001b[0;32m-> 1181\u001b[0;31m             \u001b[0;32mfor\u001b[0m \u001b[0mobj\u001b[0m \u001b[0;32min\u001b[0m \u001b[0miterable\u001b[0m\u001b[0;34m:\u001b[0m\u001b[0;34m\u001b[0m\u001b[0;34m\u001b[0m\u001b[0m\n\u001b[0m\u001b[1;32m   1182\u001b[0m                 \u001b[0;32myield\u001b[0m \u001b[0mobj\u001b[0m\u001b[0;34m\u001b[0m\u001b[0;34m\u001b[0m\u001b[0m\n\u001b[1;32m   1183\u001b[0m                 \u001b[0;31m# Update and possibly print the progressbar.\u001b[0m\u001b[0;34m\u001b[0m\u001b[0;34m\u001b[0m\u001b[0m\n",
            "\u001b[0;32m/usr/local/lib/python3.11/dist-packages/torch/utils/data/dataloader.py\u001b[0m in \u001b[0;36m__next__\u001b[0;34m(self)\u001b[0m\n\u001b[1;32m    699\u001b[0m                 \u001b[0;31m# TODO(https://github.com/pytorch/pytorch/issues/76750)\u001b[0m\u001b[0;34m\u001b[0m\u001b[0;34m\u001b[0m\u001b[0m\n\u001b[1;32m    700\u001b[0m                 \u001b[0mself\u001b[0m\u001b[0;34m.\u001b[0m\u001b[0m_reset\u001b[0m\u001b[0;34m(\u001b[0m\u001b[0;34m)\u001b[0m  \u001b[0;31m# type: ignore[call-arg]\u001b[0m\u001b[0;34m\u001b[0m\u001b[0;34m\u001b[0m\u001b[0m\n\u001b[0;32m--> 701\u001b[0;31m             \u001b[0mdata\u001b[0m \u001b[0;34m=\u001b[0m \u001b[0mself\u001b[0m\u001b[0;34m.\u001b[0m\u001b[0m_next_data\u001b[0m\u001b[0;34m(\u001b[0m\u001b[0;34m)\u001b[0m\u001b[0;34m\u001b[0m\u001b[0;34m\u001b[0m\u001b[0m\n\u001b[0m\u001b[1;32m    702\u001b[0m             \u001b[0mself\u001b[0m\u001b[0;34m.\u001b[0m\u001b[0m_num_yielded\u001b[0m \u001b[0;34m+=\u001b[0m \u001b[0;36m1\u001b[0m\u001b[0;34m\u001b[0m\u001b[0;34m\u001b[0m\u001b[0m\n\u001b[1;32m    703\u001b[0m             if (\n",
            "\u001b[0;32m/usr/local/lib/python3.11/dist-packages/torch/utils/data/dataloader.py\u001b[0m in \u001b[0;36m_next_data\u001b[0;34m(self)\u001b[0m\n\u001b[1;32m   1446\u001b[0m \u001b[0;34m\u001b[0m\u001b[0m\n\u001b[1;32m   1447\u001b[0m             \u001b[0;32massert\u001b[0m \u001b[0;32mnot\u001b[0m \u001b[0mself\u001b[0m\u001b[0;34m.\u001b[0m\u001b[0m_shutdown\u001b[0m \u001b[0;32mand\u001b[0m \u001b[0mself\u001b[0m\u001b[0;34m.\u001b[0m\u001b[0m_tasks_outstanding\u001b[0m \u001b[0;34m>\u001b[0m \u001b[0;36m0\u001b[0m\u001b[0;34m\u001b[0m\u001b[0;34m\u001b[0m\u001b[0m\n\u001b[0;32m-> 1448\u001b[0;31m             \u001b[0midx\u001b[0m\u001b[0;34m,\u001b[0m \u001b[0mdata\u001b[0m \u001b[0;34m=\u001b[0m \u001b[0mself\u001b[0m\u001b[0;34m.\u001b[0m\u001b[0m_get_data\u001b[0m\u001b[0;34m(\u001b[0m\u001b[0;34m)\u001b[0m\u001b[0;34m\u001b[0m\u001b[0;34m\u001b[0m\u001b[0m\n\u001b[0m\u001b[1;32m   1449\u001b[0m             \u001b[0mself\u001b[0m\u001b[0;34m.\u001b[0m\u001b[0m_tasks_outstanding\u001b[0m \u001b[0;34m-=\u001b[0m \u001b[0;36m1\u001b[0m\u001b[0;34m\u001b[0m\u001b[0;34m\u001b[0m\u001b[0m\n\u001b[1;32m   1450\u001b[0m             \u001b[0;32mif\u001b[0m \u001b[0mself\u001b[0m\u001b[0;34m.\u001b[0m\u001b[0m_dataset_kind\u001b[0m \u001b[0;34m==\u001b[0m \u001b[0m_DatasetKind\u001b[0m\u001b[0;34m.\u001b[0m\u001b[0mIterable\u001b[0m\u001b[0;34m:\u001b[0m\u001b[0;34m\u001b[0m\u001b[0;34m\u001b[0m\u001b[0m\n",
            "\u001b[0;32m/usr/local/lib/python3.11/dist-packages/torch/utils/data/dataloader.py\u001b[0m in \u001b[0;36m_get_data\u001b[0;34m(self)\u001b[0m\n\u001b[1;32m   1400\u001b[0m         \u001b[0;32melif\u001b[0m \u001b[0mself\u001b[0m\u001b[0;34m.\u001b[0m\u001b[0m_pin_memory\u001b[0m\u001b[0;34m:\u001b[0m\u001b[0;34m\u001b[0m\u001b[0;34m\u001b[0m\u001b[0m\n\u001b[1;32m   1401\u001b[0m             \u001b[0;32mwhile\u001b[0m \u001b[0mself\u001b[0m\u001b[0;34m.\u001b[0m\u001b[0m_pin_memory_thread\u001b[0m\u001b[0;34m.\u001b[0m\u001b[0mis_alive\u001b[0m\u001b[0;34m(\u001b[0m\u001b[0;34m)\u001b[0m\u001b[0;34m:\u001b[0m\u001b[0;34m\u001b[0m\u001b[0;34m\u001b[0m\u001b[0m\n\u001b[0;32m-> 1402\u001b[0;31m                 \u001b[0msuccess\u001b[0m\u001b[0;34m,\u001b[0m \u001b[0mdata\u001b[0m \u001b[0;34m=\u001b[0m \u001b[0mself\u001b[0m\u001b[0;34m.\u001b[0m\u001b[0m_try_get_data\u001b[0m\u001b[0;34m(\u001b[0m\u001b[0;34m)\u001b[0m\u001b[0;34m\u001b[0m\u001b[0;34m\u001b[0m\u001b[0m\n\u001b[0m\u001b[1;32m   1403\u001b[0m                 \u001b[0;32mif\u001b[0m \u001b[0msuccess\u001b[0m\u001b[0;34m:\u001b[0m\u001b[0;34m\u001b[0m\u001b[0;34m\u001b[0m\u001b[0m\n\u001b[1;32m   1404\u001b[0m                     \u001b[0;32mreturn\u001b[0m \u001b[0mdata\u001b[0m\u001b[0;34m\u001b[0m\u001b[0;34m\u001b[0m\u001b[0m\n",
            "\u001b[0;32m/usr/local/lib/python3.11/dist-packages/torch/utils/data/dataloader.py\u001b[0m in \u001b[0;36m_try_get_data\u001b[0;34m(self, timeout)\u001b[0m\n\u001b[1;32m   1241\u001b[0m         \u001b[0;31m#   (bool: whether successfully get data, any: data if successful else None)\u001b[0m\u001b[0;34m\u001b[0m\u001b[0;34m\u001b[0m\u001b[0m\n\u001b[1;32m   1242\u001b[0m         \u001b[0;32mtry\u001b[0m\u001b[0;34m:\u001b[0m\u001b[0;34m\u001b[0m\u001b[0;34m\u001b[0m\u001b[0m\n\u001b[0;32m-> 1243\u001b[0;31m             \u001b[0mdata\u001b[0m \u001b[0;34m=\u001b[0m \u001b[0mself\u001b[0m\u001b[0;34m.\u001b[0m\u001b[0m_data_queue\u001b[0m\u001b[0;34m.\u001b[0m\u001b[0mget\u001b[0m\u001b[0;34m(\u001b[0m\u001b[0mtimeout\u001b[0m\u001b[0;34m=\u001b[0m\u001b[0mtimeout\u001b[0m\u001b[0;34m)\u001b[0m\u001b[0;34m\u001b[0m\u001b[0;34m\u001b[0m\u001b[0m\n\u001b[0m\u001b[1;32m   1244\u001b[0m             \u001b[0;32mreturn\u001b[0m \u001b[0;34m(\u001b[0m\u001b[0;32mTrue\u001b[0m\u001b[0;34m,\u001b[0m \u001b[0mdata\u001b[0m\u001b[0;34m)\u001b[0m\u001b[0;34m\u001b[0m\u001b[0;34m\u001b[0m\u001b[0m\n\u001b[1;32m   1245\u001b[0m         \u001b[0;32mexcept\u001b[0m \u001b[0mException\u001b[0m \u001b[0;32mas\u001b[0m \u001b[0me\u001b[0m\u001b[0;34m:\u001b[0m\u001b[0;34m\u001b[0m\u001b[0;34m\u001b[0m\u001b[0m\n",
            "\u001b[0;32m/usr/lib/python3.11/queue.py\u001b[0m in \u001b[0;36mget\u001b[0;34m(self, block, timeout)\u001b[0m\n\u001b[1;32m    178\u001b[0m                     \u001b[0;32mif\u001b[0m \u001b[0mremaining\u001b[0m \u001b[0;34m<=\u001b[0m \u001b[0;36m0.0\u001b[0m\u001b[0;34m:\u001b[0m\u001b[0;34m\u001b[0m\u001b[0;34m\u001b[0m\u001b[0m\n\u001b[1;32m    179\u001b[0m                         \u001b[0;32mraise\u001b[0m \u001b[0mEmpty\u001b[0m\u001b[0;34m\u001b[0m\u001b[0;34m\u001b[0m\u001b[0m\n\u001b[0;32m--> 180\u001b[0;31m                     \u001b[0mself\u001b[0m\u001b[0;34m.\u001b[0m\u001b[0mnot_empty\u001b[0m\u001b[0;34m.\u001b[0m\u001b[0mwait\u001b[0m\u001b[0;34m(\u001b[0m\u001b[0mremaining\u001b[0m\u001b[0;34m)\u001b[0m\u001b[0;34m\u001b[0m\u001b[0;34m\u001b[0m\u001b[0m\n\u001b[0m\u001b[1;32m    181\u001b[0m             \u001b[0mitem\u001b[0m \u001b[0;34m=\u001b[0m \u001b[0mself\u001b[0m\u001b[0;34m.\u001b[0m\u001b[0m_get\u001b[0m\u001b[0;34m(\u001b[0m\u001b[0;34m)\u001b[0m\u001b[0;34m\u001b[0m\u001b[0;34m\u001b[0m\u001b[0m\n\u001b[1;32m    182\u001b[0m             \u001b[0mself\u001b[0m\u001b[0;34m.\u001b[0m\u001b[0mnot_full\u001b[0m\u001b[0;34m.\u001b[0m\u001b[0mnotify\u001b[0m\u001b[0;34m(\u001b[0m\u001b[0;34m)\u001b[0m\u001b[0;34m\u001b[0m\u001b[0;34m\u001b[0m\u001b[0m\n",
            "\u001b[0;32m/usr/lib/python3.11/threading.py\u001b[0m in \u001b[0;36mwait\u001b[0;34m(self, timeout)\u001b[0m\n\u001b[1;32m    329\u001b[0m             \u001b[0;32melse\u001b[0m\u001b[0;34m:\u001b[0m\u001b[0;34m\u001b[0m\u001b[0;34m\u001b[0m\u001b[0m\n\u001b[1;32m    330\u001b[0m                 \u001b[0;32mif\u001b[0m \u001b[0mtimeout\u001b[0m \u001b[0;34m>\u001b[0m \u001b[0;36m0\u001b[0m\u001b[0;34m:\u001b[0m\u001b[0;34m\u001b[0m\u001b[0;34m\u001b[0m\u001b[0m\n\u001b[0;32m--> 331\u001b[0;31m                     \u001b[0mgotit\u001b[0m \u001b[0;34m=\u001b[0m \u001b[0mwaiter\u001b[0m\u001b[0;34m.\u001b[0m\u001b[0macquire\u001b[0m\u001b[0;34m(\u001b[0m\u001b[0;32mTrue\u001b[0m\u001b[0;34m,\u001b[0m \u001b[0mtimeout\u001b[0m\u001b[0;34m)\u001b[0m\u001b[0;34m\u001b[0m\u001b[0;34m\u001b[0m\u001b[0m\n\u001b[0m\u001b[1;32m    332\u001b[0m                 \u001b[0;32melse\u001b[0m\u001b[0;34m:\u001b[0m\u001b[0;34m\u001b[0m\u001b[0;34m\u001b[0m\u001b[0m\n\u001b[1;32m    333\u001b[0m                     \u001b[0mgotit\u001b[0m \u001b[0;34m=\u001b[0m \u001b[0mwaiter\u001b[0m\u001b[0;34m.\u001b[0m\u001b[0macquire\u001b[0m\u001b[0;34m(\u001b[0m\u001b[0;32mFalse\u001b[0m\u001b[0;34m)\u001b[0m\u001b[0;34m\u001b[0m\u001b[0;34m\u001b[0m\u001b[0m\n",
            "\u001b[0;31mKeyboardInterrupt\u001b[0m: "
          ]
        }
      ]
    },
    {
      "cell_type": "code",
      "source": [],
      "metadata": {
        "id": "DSJCHt38x5Hf"
      },
      "execution_count": null,
      "outputs": []
    }
  ]
}
